{
 "cells": [
  {
   "cell_type": "code",
   "execution_count": 1,
   "id": "artistic-porcelain",
   "metadata": {
    "ExecuteTime": {
     "end_time": "2021-07-26T07:53:37.094807Z",
     "start_time": "2021-07-26T07:53:32.533449Z"
    }
   },
   "outputs": [],
   "source": [
    "import os\n",
    "import pandas as pd\n",
    "from sklearn.model_selection import train_test_split\n",
    "from sklearn.linear_model import LinearRegression\n",
    "from sklearn.metrics import r2_score\n",
    "from sklearn.metrics import mean_squared_error\n",
    "import matplotlib.pyplot as plt\n"
   ]
  },
  {
   "cell_type": "code",
   "execution_count": 3,
   "id": "rough-haiti",
   "metadata": {
    "ExecuteTime": {
     "end_time": "2021-07-26T07:56:04.871722Z",
     "start_time": "2021-07-26T07:56:04.813732Z"
    }
   },
   "outputs": [
    {
     "data": {
      "text/html": [
       "<div>\n",
       "<style scoped>\n",
       "    .dataframe tbody tr th:only-of-type {\n",
       "        vertical-align: middle;\n",
       "    }\n",
       "\n",
       "    .dataframe tbody tr th {\n",
       "        vertical-align: top;\n",
       "    }\n",
       "\n",
       "    .dataframe thead th {\n",
       "        text-align: right;\n",
       "    }\n",
       "</style>\n",
       "<table border=\"1\" class=\"dataframe\">\n",
       "  <thead>\n",
       "    <tr style=\"text-align: right;\">\n",
       "      <th></th>\n",
       "      <th>장기점</th>\n",
       "      <th>성서점</th>\n",
       "      <th>상인점</th>\n",
       "      <th>3지점 합계</th>\n",
       "      <th>달서확진자</th>\n",
       "      <th>3지점 평균</th>\n",
       "    </tr>\n",
       "    <tr>\n",
       "      <th>index</th>\n",
       "      <th></th>\n",
       "      <th></th>\n",
       "      <th></th>\n",
       "      <th></th>\n",
       "      <th></th>\n",
       "      <th></th>\n",
       "    </tr>\n",
       "  </thead>\n",
       "  <tbody>\n",
       "    <tr>\n",
       "      <th>2021-05-01</th>\n",
       "      <td>1122000</td>\n",
       "      <td>3826000</td>\n",
       "      <td>2224000</td>\n",
       "      <td>7172000</td>\n",
       "      <td>0</td>\n",
       "      <td>2390666.67</td>\n",
       "    </tr>\n",
       "    <tr>\n",
       "      <th>2021-05-02</th>\n",
       "      <td>1130000</td>\n",
       "      <td>3642500</td>\n",
       "      <td>1874500</td>\n",
       "      <td>6647000</td>\n",
       "      <td>0</td>\n",
       "      <td>2215666.67</td>\n",
       "    </tr>\n",
       "    <tr>\n",
       "      <th>2021-05-03</th>\n",
       "      <td>1508000</td>\n",
       "      <td>1423500</td>\n",
       "      <td>1235000</td>\n",
       "      <td>4166500</td>\n",
       "      <td>1</td>\n",
       "      <td>1388833.33</td>\n",
       "    </tr>\n",
       "    <tr>\n",
       "      <th>2021-05-04</th>\n",
       "      <td>1304000</td>\n",
       "      <td>3416000</td>\n",
       "      <td>1901500</td>\n",
       "      <td>6621500</td>\n",
       "      <td>1</td>\n",
       "      <td>2207166.67</td>\n",
       "    </tr>\n",
       "    <tr>\n",
       "      <th>2021-05-05</th>\n",
       "      <td>928500</td>\n",
       "      <td>2795000</td>\n",
       "      <td>2019000</td>\n",
       "      <td>5742500</td>\n",
       "      <td>2</td>\n",
       "      <td>1914166.67</td>\n",
       "    </tr>\n",
       "    <tr>\n",
       "      <th>...</th>\n",
       "      <td>...</td>\n",
       "      <td>...</td>\n",
       "      <td>...</td>\n",
       "      <td>...</td>\n",
       "      <td>...</td>\n",
       "      <td>...</td>\n",
       "    </tr>\n",
       "    <tr>\n",
       "      <th>2021-06-26</th>\n",
       "      <td>1240500</td>\n",
       "      <td>3967000</td>\n",
       "      <td>2045500</td>\n",
       "      <td>7253000</td>\n",
       "      <td>8</td>\n",
       "      <td>2417666.67</td>\n",
       "    </tr>\n",
       "    <tr>\n",
       "      <th>2021-06-27</th>\n",
       "      <td>1299500</td>\n",
       "      <td>3109500</td>\n",
       "      <td>1656000</td>\n",
       "      <td>6065000</td>\n",
       "      <td>2</td>\n",
       "      <td>2021666.67</td>\n",
       "    </tr>\n",
       "    <tr>\n",
       "      <th>2021-06-28</th>\n",
       "      <td>948000</td>\n",
       "      <td>2203000</td>\n",
       "      <td>1809500</td>\n",
       "      <td>4960500</td>\n",
       "      <td>2</td>\n",
       "      <td>1653500.00</td>\n",
       "    </tr>\n",
       "    <tr>\n",
       "      <th>2021-06-29</th>\n",
       "      <td>976500</td>\n",
       "      <td>2380000</td>\n",
       "      <td>1233000</td>\n",
       "      <td>4589500</td>\n",
       "      <td>4</td>\n",
       "      <td>1529833.33</td>\n",
       "    </tr>\n",
       "    <tr>\n",
       "      <th>2021-06-30</th>\n",
       "      <td>1301500</td>\n",
       "      <td>2830500</td>\n",
       "      <td>1539500</td>\n",
       "      <td>5671500</td>\n",
       "      <td>6</td>\n",
       "      <td>1890500.00</td>\n",
       "    </tr>\n",
       "  </tbody>\n",
       "</table>\n",
       "<p>61 rows × 6 columns</p>\n",
       "</div>"
      ],
      "text/plain": [
       "                장기점      성서점      상인점   3지점 합계  달서확진자      3지점 평균\n",
       "index                                                            \n",
       "2021-05-01  1122000  3826000  2224000  7172000      0  2390666.67\n",
       "2021-05-02  1130000  3642500  1874500  6647000      0  2215666.67\n",
       "2021-05-03  1508000  1423500  1235000  4166500      1  1388833.33\n",
       "2021-05-04  1304000  3416000  1901500  6621500      1  2207166.67\n",
       "2021-05-05   928500  2795000  2019000  5742500      2  1914166.67\n",
       "...             ...      ...      ...      ...    ...         ...\n",
       "2021-06-26  1240500  3967000  2045500  7253000      8  2417666.67\n",
       "2021-06-27  1299500  3109500  1656000  6065000      2  2021666.67\n",
       "2021-06-28   948000  2203000  1809500  4960500      2  1653500.00\n",
       "2021-06-29   976500  2380000  1233000  4589500      4  1529833.33\n",
       "2021-06-30  1301500  2830500  1539500  5671500      6  1890500.00\n",
       "\n",
       "[61 rows x 6 columns]"
      ]
     },
     "execution_count": 3,
     "metadata": {},
     "output_type": "execute_result"
    }
   ],
   "source": [
    "os.chdir(r'G:\\공유 드라이브\\SicParvisMagna\\데이터\\코로나_매출')\n",
    "df_1 = pd.read_csv('5~6월_매출_확진자_합평균.csv')\n",
    "df_1.columns = ['index', '장기점', '성서점', '상인점', '3지점 합계', '달서확진자', '3지점 평균']\n",
    "df_1.index = df_1['index']\n",
    "del df_1['index']\n",
    "df_1"
   ]
  },
  {
   "cell_type": "code",
   "execution_count": 21,
   "id": "lovely-bobby",
   "metadata": {
    "ExecuteTime": {
     "end_time": "2021-07-26T08:04:20.931350Z",
     "start_time": "2021-07-26T08:04:20.925341Z"
    }
   },
   "outputs": [],
   "source": [
    "x = df_1['달서확진자'][:-4]\n",
    "y = df_1['3지점 평균'][1:-3]"
   ]
  },
  {
   "cell_type": "code",
   "execution_count": 12,
   "id": "bigger-plant",
   "metadata": {
    "ExecuteTime": {
     "end_time": "2021-07-26T07:59:09.211400Z",
     "start_time": "2021-07-26T07:59:09.200392Z"
    }
   },
   "outputs": [],
   "source": [
    "x_train, x_test, y_train, y_test = train_test_split(x, y, test_size = 0.2, random_state = 42)"
   ]
  },
  {
   "cell_type": "code",
   "execution_count": 13,
   "id": "dominant-director",
   "metadata": {
    "ExecuteTime": {
     "end_time": "2021-07-26T07:59:09.347428Z",
     "start_time": "2021-07-26T07:59:09.334425Z"
    }
   },
   "outputs": [
    {
     "data": {
      "text/plain": [
       "LinearRegression()"
      ]
     },
     "execution_count": 13,
     "metadata": {},
     "output_type": "execute_result"
    }
   ],
   "source": [
    "LR = LinearRegression()\n",
    "LR.fit(x_train.values.reshape(-1, 1), y_train)"
   ]
  },
  {
   "cell_type": "code",
   "execution_count": 14,
   "id": "chubby-unemployment",
   "metadata": {
    "ExecuteTime": {
     "end_time": "2021-07-26T07:59:09.483132Z",
     "start_time": "2021-07-26T07:59:09.472126Z"
    }
   },
   "outputs": [
    {
     "data": {
      "text/plain": [
       "array([1714133.38745453, 1697645.9416937 , 1631696.15865035,\n",
       "       1549258.92984617, 1598721.26712868, 1681158.49593286,\n",
       "       1466821.70104198, 1697645.9416937 , 1648183.60441119,\n",
       "       1565746.375607  , 1532771.48408533, 1648183.60441119,\n",
       "       1631696.15865035])"
      ]
     },
     "execution_count": 14,
     "metadata": {},
     "output_type": "execute_result"
    }
   ],
   "source": [
    "y_prediction =  LR.predict(x_test.values.reshape(-1, 1))\n",
    "y_prediction"
   ]
  },
  {
   "cell_type": "code",
   "execution_count": 19,
   "id": "stone-profile",
   "metadata": {
    "ExecuteTime": {
     "end_time": "2021-07-26T08:02:24.608863Z",
     "start_time": "2021-07-26T08:02:24.591301Z"
    }
   },
   "outputs": [
    {
     "name": "stdout",
     "output_type": "stream",
     "text": [
      "r2 socre is 0.0019720696044259745\n",
      "mean_sqrd_error is == 171290990042.55225\n",
      "root_mean_squared error of is == 413873.1569485417\n",
      "RMSE / 매출 평균 == 0.2605859586012102\n"
     ]
    }
   ],
   "source": [
    "score = r2_score(y_test, y_prediction)\n",
    "print('r2 socre is',score)\n",
    "print('mean_sqrd_error is ==',mean_squared_error(y_test, y_prediction))\n",
    "print('root_mean_squared error of is ==',np.sqrt(mean_squared_error(y_test, y_prediction)))\n",
    "print('RMSE / 매출 평균 == {}' .format(np.sqrt(mean_squared_error(y_test, y_prediction)) / (sum(y)/len(y))))"
   ]
  },
  {
   "cell_type": "code",
   "execution_count": 45,
   "id": "spoken-organic",
   "metadata": {
    "ExecuteTime": {
     "end_time": "2021-07-26T08:37:51.254521Z",
     "start_time": "2021-07-26T08:37:51.213529Z"
    },
    "scrolled": false
   },
   "outputs": [
    {
     "name": "stdout",
     "output_type": "stream",
     "text": [
      "Lag 1\n",
      "r2 socre is -0.24631653544141496\n",
      "mean_sqrd_error is == 121513305633.05264\n",
      "root_mean_squared error of is == 348587.58674550167\n",
      "RMSE / 매출 평균 == 0.22636283444499677\n",
      "Lag 2\n",
      "r2 socre is -0.02280013504418643\n",
      "mean_sqrd_error is == 198695822672.9585\n",
      "root_mean_squared error of is == 445753.09608903277\n",
      "RMSE / 매출 평균 == 0.290837919227614\n",
      "Lag 3\n",
      "r2 socre is 0.16757824679051259\n",
      "mean_sqrd_error is == 109987018747.58885\n",
      "root_mean_squared error of is == 331642.90848379204\n",
      "RMSE / 매출 평균 == 0.21372824436357793\n",
      "Lag 4\n",
      "r2 socre is 0.16380541768178336\n",
      "mean_sqrd_error is == 134286836282.36432\n",
      "root_mean_squared error of is == 366451.6834213814\n",
      "RMSE / 매출 평균 == 0.23668483787329994\n",
      "Lag 5\n",
      "r2 socre is 0.15173955412262385\n",
      "mean_sqrd_error is == 138452930814.56262\n",
      "root_mean_squared error of is == 372092.63740977546\n",
      "RMSE / 매출 평균 == 0.24107986698434125\n",
      "Lag 6\n",
      "r2 socre is 0.13511913205675286\n",
      "mean_sqrd_error is == 75217721565.77338\n",
      "root_mean_squared error of is == 274258.4940631254\n",
      "RMSE / 매출 평균 == 0.17720207404707122\n"
     ]
    }
   ],
   "source": [
    "Lag = 7\n",
    "for a in range(1, Lag) :\n",
    "    x = df_1['달서확진자'][: -Lag]\n",
    "    y = df_1['3지점 평균'][a : -Lag + a]\n",
    "    \n",
    "    x_train, x_test, y_train, y_test = train_test_split(x, y, test_size = 0.2, random_state = 42)\n",
    "    \n",
    "    LR = LinearRegression()\n",
    "    LR.fit(x_train.values.reshape(-1, 1), y_train)\n",
    "    \n",
    "    y_prediction = LR.predict(x_test.values.reshape(-1, 1))\n",
    "    score = r2_score(y_test, y_prediction)\n",
    "    print('Lag {}' .format(a))\n",
    "    print('r2 socre is',score)\n",
    "    print('mean_sqrd_error is ==',mean_squared_error(y_test, y_prediction))\n",
    "    print('root_mean_squared error of is ==',np.sqrt(mean_squared_error(y_test, y_prediction)))\n",
    "    print('RMSE / 매출 평균 == {}' .format(np.sqrt(mean_squared_error(y_test, y_prediction)) / (sum(y)/len(y))))"
   ]
  },
  {
   "cell_type": "code",
   "execution_count": null,
   "id": "choice-france",
   "metadata": {},
   "outputs": [],
   "source": []
  }
 ],
 "metadata": {
  "hide_input": false,
  "kernelspec": {
   "display_name": "Python 3",
   "language": "python",
   "name": "python3"
  },
  "language_info": {
   "codemirror_mode": {
    "name": "ipython",
    "version": 3
   },
   "file_extension": ".py",
   "mimetype": "text/x-python",
   "name": "python",
   "nbconvert_exporter": "python",
   "pygments_lexer": "ipython3",
   "version": "3.7.10"
  },
  "toc": {
   "base_numbering": 1,
   "nav_menu": {},
   "number_sections": true,
   "sideBar": true,
   "skip_h1_title": false,
   "title_cell": "Table of Contents",
   "title_sidebar": "Contents",
   "toc_cell": false,
   "toc_position": {},
   "toc_section_display": true,
   "toc_window_display": false
  },
  "varInspector": {
   "cols": {
    "lenName": 16,
    "lenType": 16,
    "lenVar": 40
   },
   "kernels_config": {
    "python": {
     "delete_cmd_postfix": "",
     "delete_cmd_prefix": "del ",
     "library": "var_list.py",
     "varRefreshCmd": "print(var_dic_list())"
    },
    "r": {
     "delete_cmd_postfix": ") ",
     "delete_cmd_prefix": "rm(",
     "library": "var_list.r",
     "varRefreshCmd": "cat(var_dic_list()) "
    }
   },
   "types_to_exclude": [
    "module",
    "function",
    "builtin_function_or_method",
    "instance",
    "_Feature"
   ],
   "window_display": false
  }
 },
 "nbformat": 4,
 "nbformat_minor": 5
}
