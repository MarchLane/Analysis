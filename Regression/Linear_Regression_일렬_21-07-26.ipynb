{
 "cells": [
  {
   "cell_type": "code",
   "execution_count": 22,
   "id": "forty-steel",
   "metadata": {
    "ExecuteTime": {
     "end_time": "2021-07-26T07:31:40.293998Z",
     "start_time": "2021-07-26T07:31:40.287996Z"
    }
   },
   "outputs": [],
   "source": [
    "import os\n",
    "import pandas as pd\n",
    "from sklearn.model_selection import train_test_split\n",
    "from sklearn.linear_model import LinearRegression\n",
    "from sklearn.metrics import r2_score\n",
    "from sklearn.metrics import mean_squared_error\n",
    "import matplotlib.pyplot as plt\n"
   ]
  },
  {
   "cell_type": "code",
   "execution_count": 23,
   "id": "italic-flash",
   "metadata": {
    "ExecuteTime": {
     "end_time": "2021-07-26T07:31:40.443996Z",
     "start_time": "2021-07-26T07:31:40.400991Z"
    },
    "scrolled": false
   },
   "outputs": [
    {
     "data": {
      "text/html": [
       "<div>\n",
       "<style scoped>\n",
       "    .dataframe tbody tr th:only-of-type {\n",
       "        vertical-align: middle;\n",
       "    }\n",
       "\n",
       "    .dataframe tbody tr th {\n",
       "        vertical-align: top;\n",
       "    }\n",
       "\n",
       "    .dataframe thead th {\n",
       "        text-align: right;\n",
       "    }\n",
       "</style>\n",
       "<table border=\"1\" class=\"dataframe\">\n",
       "  <thead>\n",
       "    <tr style=\"text-align: right;\">\n",
       "      <th></th>\n",
       "      <th>매출</th>\n",
       "      <th>달서확진자</th>\n",
       "    </tr>\n",
       "  </thead>\n",
       "  <tbody>\n",
       "    <tr>\n",
       "      <th>0</th>\n",
       "      <td>1,122,000</td>\n",
       "      <td>0</td>\n",
       "    </tr>\n",
       "    <tr>\n",
       "      <th>1</th>\n",
       "      <td>1,130,000</td>\n",
       "      <td>0</td>\n",
       "    </tr>\n",
       "    <tr>\n",
       "      <th>2</th>\n",
       "      <td>1,508,000</td>\n",
       "      <td>1</td>\n",
       "    </tr>\n",
       "    <tr>\n",
       "      <th>3</th>\n",
       "      <td>1,304,000</td>\n",
       "      <td>1</td>\n",
       "    </tr>\n",
       "    <tr>\n",
       "      <th>4</th>\n",
       "      <td>928,500</td>\n",
       "      <td>2</td>\n",
       "    </tr>\n",
       "    <tr>\n",
       "      <th>...</th>\n",
       "      <td>...</td>\n",
       "      <td>...</td>\n",
       "    </tr>\n",
       "    <tr>\n",
       "      <th>178</th>\n",
       "      <td>2,045,500</td>\n",
       "      <td>8</td>\n",
       "    </tr>\n",
       "    <tr>\n",
       "      <th>179</th>\n",
       "      <td>1,656,000</td>\n",
       "      <td>2</td>\n",
       "    </tr>\n",
       "    <tr>\n",
       "      <th>180</th>\n",
       "      <td>1,809,500</td>\n",
       "      <td>2</td>\n",
       "    </tr>\n",
       "    <tr>\n",
       "      <th>181</th>\n",
       "      <td>1,233,000</td>\n",
       "      <td>4</td>\n",
       "    </tr>\n",
       "    <tr>\n",
       "      <th>182</th>\n",
       "      <td>1,539,500</td>\n",
       "      <td>6</td>\n",
       "    </tr>\n",
       "  </tbody>\n",
       "</table>\n",
       "<p>183 rows × 2 columns</p>\n",
       "</div>"
      ],
      "text/plain": [
       "            매출  달서확진자\n",
       "0    1,122,000      0\n",
       "1    1,130,000      0\n",
       "2    1,508,000      1\n",
       "3    1,304,000      1\n",
       "4      928,500      2\n",
       "..         ...    ...\n",
       "178  2,045,500      8\n",
       "179  1,656,000      2\n",
       "180  1,809,500      2\n",
       "181  1,233,000      4\n",
       "182  1,539,500      6\n",
       "\n",
       "[183 rows x 2 columns]"
      ]
     },
     "execution_count": 23,
     "metadata": {},
     "output_type": "execute_result"
    }
   ],
   "source": [
    "os.chdir(r'G:\\공유 드라이브\\SicParvisMagna\\데이터\\코로나_매출')\n",
    "df_1 = pd.read_csv('5~6월_일렬.csv')\n",
    "df_1.columns = ['매출', '달서확진자']\n",
    "df_1"
   ]
  },
  {
   "cell_type": "code",
   "execution_count": 24,
   "id": "virgin-numbers",
   "metadata": {
    "ExecuteTime": {
     "end_time": "2021-07-26T07:31:40.549005Z",
     "start_time": "2021-07-26T07:31:40.543000Z"
    }
   },
   "outputs": [],
   "source": [
    "df_1['매출'] = [int(a.replace(',', '')) for a in df_1['매출']]"
   ]
  },
  {
   "cell_type": "code",
   "execution_count": 25,
   "id": "electrical-tomorrow",
   "metadata": {
    "ExecuteTime": {
     "end_time": "2021-07-26T07:31:40.638993Z",
     "start_time": "2021-07-26T07:31:40.627995Z"
    }
   },
   "outputs": [],
   "source": [
    "x = df_1['달서확진자']\n",
    "y = df_1['매출']"
   ]
  },
  {
   "cell_type": "code",
   "execution_count": 26,
   "id": "emotional-washington",
   "metadata": {
    "ExecuteTime": {
     "end_time": "2021-07-26T07:31:40.758988Z",
     "start_time": "2021-07-26T07:31:40.746995Z"
    }
   },
   "outputs": [],
   "source": [
    "x_train, x_test, y_train, y_test = train_test_split(x, y, test_size = 0.2, random_state = 42)"
   ]
  },
  {
   "cell_type": "code",
   "execution_count": 27,
   "id": "norman-consultation",
   "metadata": {
    "ExecuteTime": {
     "end_time": "2021-07-26T07:31:40.924002Z",
     "start_time": "2021-07-26T07:31:40.908004Z"
    }
   },
   "outputs": [
    {
     "data": {
      "text/plain": [
       "LinearRegression()"
      ]
     },
     "execution_count": 27,
     "metadata": {},
     "output_type": "execute_result"
    }
   ],
   "source": [
    "LR = LinearRegression()\n",
    "LR.fit(x_train.values.reshape(-1, 1), y_train)"
   ]
  },
  {
   "cell_type": "code",
   "execution_count": 28,
   "id": "painted-triple",
   "metadata": {
    "ExecuteTime": {
     "end_time": "2021-07-26T07:31:41.134995Z",
     "start_time": "2021-07-26T07:31:41.121002Z"
    }
   },
   "outputs": [
    {
     "data": {
      "text/plain": [
       "array([-16335.82931111])"
      ]
     },
     "execution_count": 28,
     "metadata": {},
     "output_type": "execute_result"
    }
   ],
   "source": [
    "LR.coef_"
   ]
  },
  {
   "cell_type": "code",
   "execution_count": 29,
   "id": "talented-mistake",
   "metadata": {
    "ExecuteTime": {
     "end_time": "2021-07-26T07:31:41.464994Z",
     "start_time": "2021-07-26T07:31:41.454005Z"
    }
   },
   "outputs": [
    {
     "data": {
      "text/plain": [
       "0.00992883791242416"
      ]
     },
     "execution_count": 29,
     "metadata": {},
     "output_type": "execute_result"
    }
   ],
   "source": [
    "LR.score(x_train.values.reshape(-1, 1), y_train)"
   ]
  },
  {
   "cell_type": "code",
   "execution_count": 30,
   "id": "technological-intermediate",
   "metadata": {
    "ExecuteTime": {
     "end_time": "2021-07-26T07:31:47.226471Z",
     "start_time": "2021-07-26T07:31:47.207473Z"
    }
   },
   "outputs": [
    {
     "name": "stdout",
     "output_type": "stream",
     "text": [
      "r2 socre is 0.03765030125798541\n",
      "mean_sqrd_error is== 800213653457.331\n",
      "root_mean_squared error of is== 894546.6189401931\n"
     ]
    }
   ],
   "source": [
    "score = r2_score(y_test,y_prediction)\n",
    "print('r2 socre is',score)\n",
    "print('mean_sqrd_error is==',mean_squared_error(y_test,y_prediction))\n",
    "print('root_mean_squared error of is==',np.sqrt(mean_squared_error(y_test,y_prediction)))"
   ]
  },
  {
   "cell_type": "code",
   "execution_count": null,
   "id": "alive-vulnerability",
   "metadata": {},
   "outputs": [],
   "source": []
  }
 ],
 "metadata": {
  "hide_input": false,
  "kernelspec": {
   "display_name": "Python 3 (ipykernel)",
   "language": "python",
   "name": "python3"
  },
  "language_info": {
   "codemirror_mode": {
    "name": "ipython",
    "version": 3
   },
   "file_extension": ".py",
   "mimetype": "text/x-python",
   "name": "python",
   "nbconvert_exporter": "python",
   "pygments_lexer": "ipython3",
   "version": "3.9.12"
  },
  "toc": {
   "base_numbering": 1,
   "nav_menu": {},
   "number_sections": true,
   "sideBar": true,
   "skip_h1_title": false,
   "title_cell": "Table of Contents",
   "title_sidebar": "Contents",
   "toc_cell": false,
   "toc_position": {},
   "toc_section_display": true,
   "toc_window_display": false
  },
  "varInspector": {
   "cols": {
    "lenName": 16,
    "lenType": 16,
    "lenVar": 40
   },
   "kernels_config": {
    "python": {
     "delete_cmd_postfix": "",
     "delete_cmd_prefix": "del ",
     "library": "var_list.py",
     "varRefreshCmd": "print(var_dic_list())"
    },
    "r": {
     "delete_cmd_postfix": ") ",
     "delete_cmd_prefix": "rm(",
     "library": "var_list.r",
     "varRefreshCmd": "cat(var_dic_list()) "
    }
   },
   "types_to_exclude": [
    "module",
    "function",
    "builtin_function_or_method",
    "instance",
    "_Feature"
   ],
   "window_display": false
  }
 },
 "nbformat": 4,
 "nbformat_minor": 5
}
