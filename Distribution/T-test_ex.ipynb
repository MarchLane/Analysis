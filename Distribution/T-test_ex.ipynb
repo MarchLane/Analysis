{
 "cells": [
  {
   "cell_type": "code",
   "execution_count": 2,
   "id": "oriental-swaziland",
   "metadata": {
    "ExecuteTime": {
     "end_time": "2021-07-29T05:36:23.071555Z",
     "start_time": "2021-07-29T05:36:22.094560Z"
    }
   },
   "outputs": [],
   "source": [
    "from scipy import stats\n"
   ]
  },
  {
   "cell_type": "code",
   "execution_count": 4,
   "id": "detailed-officer",
   "metadata": {
    "ExecuteTime": {
     "end_time": "2021-07-29T05:36:38.810240Z",
     "start_time": "2021-07-29T05:36:38.790238Z"
    }
   },
   "outputs": [],
   "source": [
    "# 데이터\n",
    "nonsmokers = [18, 22, 21, 17, 20, 17, 23, 20, 22, 21]\n",
    "smokers = [16, 20, 14, 21, 20, 18, 13, 15, 17, 21]"
   ]
  },
  {
   "cell_type": "code",
   "execution_count": 5,
   "id": "supposed-southwest",
   "metadata": {
    "ExecuteTime": {
     "end_time": "2021-07-29T05:37:26.062504Z",
     "start_time": "2021-07-29T05:37:26.045517Z"
    }
   },
   "outputs": [
    {
     "name": "stdout",
     "output_type": "stream",
     "text": [
      "ShapiroResult(statistic=0.9119927883148193, pvalue=0.2949621379375458)\n",
      "ShapiroResult(statistic=0.9194088578224182, pvalue=0.3520510196685791)\n"
     ]
    }
   ],
   "source": [
    "# 정규성 검정 (Shapiro-Wilk normality test)\n",
    "normal1 = stats.shapiro(nonsmokers)\n",
    "normal2 = stats.shapiro(smokers)\n",
    "print(normal1)\n",
    "print(normal2)"
   ]
  },
  {
   "cell_type": "code",
   "execution_count": 7,
   "id": "european-seating",
   "metadata": {
    "ExecuteTime": {
     "end_time": "2021-07-29T05:38:03.393773Z",
     "start_time": "2021-07-29T05:38:03.387763Z"
    }
   },
   "outputs": [
    {
     "name": "stdout",
     "output_type": "stream",
     "text": [
      "LeveneResult(statistic=1.945945945945946, pvalue=0.18000074963498305)\n"
     ]
    }
   ],
   "source": [
    "# 등분산성 검정 (levene test)\n",
    "levene = stats.levene(nonsmokers, smokers)\n",
    "print(levene)"
   ]
  },
  {
   "cell_type": "code",
   "execution_count": 9,
   "id": "sharing-nation",
   "metadata": {
    "ExecuteTime": {
     "end_time": "2021-07-29T05:38:42.771406Z",
     "start_time": "2021-07-29T05:38:42.764400Z"
    }
   },
   "outputs": [
    {
     "name": "stdout",
     "output_type": "stream",
     "text": [
      "BartlettResult(statistic=0.8904487989220573, pvalue=0.3453557166446204)\n"
     ]
    }
   ],
   "source": [
    "# 등분산성 검정 (bartlett test)\n",
    "bartlett = stats.bartlett(nonsmokers, smokers)\n",
    "print(bartlett)"
   ]
  },
  {
   "cell_type": "code",
   "execution_count": 10,
   "id": "neutral-pierre",
   "metadata": {
    "ExecuteTime": {
     "end_time": "2021-07-29T05:41:05.642250Z",
     "start_time": "2021-07-29T05:41:05.608725Z"
    }
   },
   "outputs": [
    {
     "name": "stdout",
     "output_type": "stream",
     "text": [
      "ttest_ind:            t = -1.5827  p = 0.118873\n",
      "ttest_ind_from_stats: t = -1.5827  p = 0.118873\n",
      "formula:              t = -1.5827  p = 0.118873\n"
     ]
    }
   ],
   "source": [
    "from __future__ import print_function\n",
    "\n",
    "import numpy as np\n",
    "from scipy.stats import ttest_ind, ttest_ind_from_stats\n",
    "from scipy.special import stdtr\n",
    "\n",
    "np.random.seed(1)\n",
    "\n",
    "# Create sample data.\n",
    "a = np.random.randn(40)\n",
    "b = 4*np.random.randn(50)\n",
    "\n",
    "# Use scipy.stats.ttest_ind.\n",
    "t, p = ttest_ind(a, b, equal_var=False)\n",
    "print(\"ttest_ind:            t = %g  p = %g\" % (t, p))\n",
    "\n",
    "# Compute the descriptive statistics of a and b.\n",
    "abar = a.mean()\n",
    "avar = a.var(ddof=1)\n",
    "na = a.size\n",
    "adof = na - 1\n",
    "\n",
    "bbar = b.mean()\n",
    "bvar = b.var(ddof=1)\n",
    "nb = b.size\n",
    "bdof = nb - 1\n",
    "\n",
    "# Use scipy.stats.ttest_ind_from_stats.\n",
    "t2, p2 = ttest_ind_from_stats(abar, np.sqrt(avar), na,\n",
    "                              bbar, np.sqrt(bvar), nb,\n",
    "                              equal_var=False)\n",
    "print(\"ttest_ind_from_stats: t = %g  p = %g\" % (t2, p2))\n",
    "\n",
    "# Use the formulas directly.\n",
    "tf = (abar - bbar) / np.sqrt(avar/na + bvar/nb)\n",
    "dof = (avar/na + bvar/nb)**2 / (avar**2/(na**2*adof) + bvar**2/(nb**2*bdof))\n",
    "pf = 2*stdtr(dof, -np.abs(tf))\n",
    "\n",
    "print(\"formula:              t = %g  p = %g\" % (tf, pf))"
   ]
  },
  {
   "cell_type": "code",
   "execution_count": 30,
   "id": "literary-linux",
   "metadata": {
    "ExecuteTime": {
     "end_time": "2021-07-29T05:53:27.657005Z",
     "start_time": "2021-07-29T05:53:27.635020Z"
    }
   },
   "outputs": [
    {
     "data": {
      "text/plain": [
       "Ttest_relResult(statistic=2.9154993563693186, pvalue=0.008871163766572827)"
      ]
     },
     "execution_count": 30,
     "metadata": {},
     "output_type": "execute_result"
    }
   ],
   "source": [
    "np.random.seed(1)\n",
    "\n",
    "beforeWeights = [60 + np.random.normal(0, 5) for _ in range(20)]\n",
    "afterWeights = [w * np.random.normal(0.99, 0.02) for w in beforeWeights]\n",
    "\n",
    "tTestResult = stats.ttest_rel(beforeWeights, afterWeights)\n",
    "tTestResult"
   ]
  },
  {
   "cell_type": "code",
   "execution_count": 31,
   "id": "lonely-brooks",
   "metadata": {
    "ExecuteTime": {
     "end_time": "2021-07-29T05:53:39.417521Z",
     "start_time": "2021-07-29T05:53:39.408304Z"
    }
   },
   "outputs": [
    {
     "data": {
      "text/plain": [
       "[68.1217268183162,\n",
       " 56.94121793174962,\n",
       " 57.359141238682724,\n",
       " 54.63515688921915,\n",
       " 64.3270381466234,\n",
       " 48.492306515598585,\n",
       " 68.7240588210824,\n",
       " 56.19396549552449,\n",
       " 61.59519548028549,\n",
       " 58.75314812261295,\n",
       " 67.31053968522487,\n",
       " 49.69929645251173,\n",
       " 58.38791397993246,\n",
       " 58.07972822665792,\n",
       " 65.66884721167719,\n",
       " 54.500543663429845,\n",
       " 59.13785896224782,\n",
       " 55.61070791039314,\n",
       " 60.21106873357797,\n",
       " 62.914076068579114]"
      ]
     },
     "execution_count": 31,
     "metadata": {},
     "output_type": "execute_result"
    }
   ],
   "source": [
    "beforeWeights"
   ]
  },
  {
   "cell_type": "code",
   "execution_count": 32,
   "id": "arbitrary-lounge",
   "metadata": {
    "ExecuteTime": {
     "end_time": "2021-07-29T05:53:41.867594Z",
     "start_time": "2021-07-29T05:53:41.854065Z"
    }
   },
   "outputs": [
    {
     "data": {
      "text/plain": [
       "[65.94098797171107,\n",
       " 57.67544499710449,\n",
       " 57.819839215935254,\n",
       " 54.63788246116392,\n",
       " 64.84275566541605,\n",
       " 47.34427263203588,\n",
       " 67.86790793112998,\n",
       " 54.58033393455883,\n",
       " 60.64923115285458,\n",
       " 58.78881770728494,\n",
       " 65.70631311881824,\n",
       " 48.80793606499072,\n",
       " 57.001583230054315,\n",
       " 56.517144665313666,\n",
       " 64.13055954741337,\n",
       " 53.94173367626836,\n",
       " 57.224973536332286,\n",
       " 55.315321289307555,\n",
       " 61.60772730564428,\n",
       " 63.218635763189475]"
      ]
     },
     "execution_count": 32,
     "metadata": {},
     "output_type": "execute_result"
    }
   ],
   "source": [
    "afterWeights"
   ]
  },
  {
   "cell_type": "code",
   "execution_count": null,
   "id": "matched-nightmare",
   "metadata": {},
   "outputs": [],
   "source": []
  }
 ],
 "metadata": {
  "hide_input": false,
  "kernelspec": {
   "display_name": "Python 3",
   "language": "python",
   "name": "python3"
  },
  "language_info": {
   "codemirror_mode": {
    "name": "ipython",
    "version": 3
   },
   "file_extension": ".py",
   "mimetype": "text/x-python",
   "name": "python",
   "nbconvert_exporter": "python",
   "pygments_lexer": "ipython3",
   "version": "3.7.10"
  },
  "toc": {
   "base_numbering": 1,
   "nav_menu": {},
   "number_sections": true,
   "sideBar": true,
   "skip_h1_title": false,
   "title_cell": "Table of Contents",
   "title_sidebar": "Contents",
   "toc_cell": false,
   "toc_position": {},
   "toc_section_display": true,
   "toc_window_display": false
  },
  "varInspector": {
   "cols": {
    "lenName": 16,
    "lenType": 16,
    "lenVar": 40
   },
   "kernels_config": {
    "python": {
     "delete_cmd_postfix": "",
     "delete_cmd_prefix": "del ",
     "library": "var_list.py",
     "varRefreshCmd": "print(var_dic_list())"
    },
    "r": {
     "delete_cmd_postfix": ") ",
     "delete_cmd_prefix": "rm(",
     "library": "var_list.r",
     "varRefreshCmd": "cat(var_dic_list()) "
    }
   },
   "types_to_exclude": [
    "module",
    "function",
    "builtin_function_or_method",
    "instance",
    "_Feature"
   ],
   "window_display": false
  }
 },
 "nbformat": 4,
 "nbformat_minor": 5
}
