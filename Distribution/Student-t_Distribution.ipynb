{
 "cells": [
  {
   "cell_type": "code",
   "execution_count": 1,
   "id": "turned-plane",
   "metadata": {
    "ExecuteTime": {
     "end_time": "2021-07-29T05:13:18.472818Z",
     "start_time": "2021-07-29T05:13:14.058788Z"
    }
   },
   "outputs": [],
   "source": [
    "import os\n",
    "import pandas as pd\n",
    "import numpy as np\n",
    "from scipy.stats import t\n",
    "import matplotlib.pyplot as plt\n"
   ]
  },
  {
   "cell_type": "code",
   "execution_count": 2,
   "id": "material-liabilities",
   "metadata": {
    "ExecuteTime": {
     "end_time": "2021-07-29T05:13:18.579817Z",
     "start_time": "2021-07-29T05:13:18.506834Z"
    }
   },
   "outputs": [
    {
     "data": {
      "text/html": [
       "<div>\n",
       "<style scoped>\n",
       "    .dataframe tbody tr th:only-of-type {\n",
       "        vertical-align: middle;\n",
       "    }\n",
       "\n",
       "    .dataframe tbody tr th {\n",
       "        vertical-align: top;\n",
       "    }\n",
       "\n",
       "    .dataframe thead th {\n",
       "        text-align: right;\n",
       "    }\n",
       "</style>\n",
       "<table border=\"1\" class=\"dataframe\">\n",
       "  <thead>\n",
       "    <tr style=\"text-align: right;\">\n",
       "      <th></th>\n",
       "      <th>장기점</th>\n",
       "      <th>성서점</th>\n",
       "      <th>상인점</th>\n",
       "      <th>3합</th>\n",
       "      <th>3평</th>\n",
       "      <th>달서확진</th>\n",
       "    </tr>\n",
       "    <tr>\n",
       "      <th>index</th>\n",
       "      <th></th>\n",
       "      <th></th>\n",
       "      <th></th>\n",
       "      <th></th>\n",
       "      <th></th>\n",
       "      <th></th>\n",
       "    </tr>\n",
       "  </thead>\n",
       "  <tbody>\n",
       "    <tr>\n",
       "      <th>2021-05-01</th>\n",
       "      <td>1122000</td>\n",
       "      <td>3826000</td>\n",
       "      <td>2224000</td>\n",
       "      <td>7172000</td>\n",
       "      <td>2390666.67</td>\n",
       "      <td>0</td>\n",
       "    </tr>\n",
       "    <tr>\n",
       "      <th>2021-05-02</th>\n",
       "      <td>1130000</td>\n",
       "      <td>3642500</td>\n",
       "      <td>1874500</td>\n",
       "      <td>6647000</td>\n",
       "      <td>2215666.67</td>\n",
       "      <td>0</td>\n",
       "    </tr>\n",
       "    <tr>\n",
       "      <th>2021-05-03</th>\n",
       "      <td>1508000</td>\n",
       "      <td>1423500</td>\n",
       "      <td>1235000</td>\n",
       "      <td>4166500</td>\n",
       "      <td>1388833.33</td>\n",
       "      <td>1</td>\n",
       "    </tr>\n",
       "    <tr>\n",
       "      <th>2021-05-04</th>\n",
       "      <td>1304000</td>\n",
       "      <td>3416000</td>\n",
       "      <td>1901500</td>\n",
       "      <td>6621500</td>\n",
       "      <td>2207166.67</td>\n",
       "      <td>1</td>\n",
       "    </tr>\n",
       "    <tr>\n",
       "      <th>2021-05-05</th>\n",
       "      <td>928500</td>\n",
       "      <td>2795000</td>\n",
       "      <td>2019000</td>\n",
       "      <td>5742500</td>\n",
       "      <td>1914166.67</td>\n",
       "      <td>2</td>\n",
       "    </tr>\n",
       "    <tr>\n",
       "      <th>...</th>\n",
       "      <td>...</td>\n",
       "      <td>...</td>\n",
       "      <td>...</td>\n",
       "      <td>...</td>\n",
       "      <td>...</td>\n",
       "      <td>...</td>\n",
       "    </tr>\n",
       "    <tr>\n",
       "      <th>2021-06-26</th>\n",
       "      <td>1240500</td>\n",
       "      <td>3967000</td>\n",
       "      <td>2045500</td>\n",
       "      <td>7253000</td>\n",
       "      <td>2417666.67</td>\n",
       "      <td>8</td>\n",
       "    </tr>\n",
       "    <tr>\n",
       "      <th>2021-06-27</th>\n",
       "      <td>1299500</td>\n",
       "      <td>3109500</td>\n",
       "      <td>1656000</td>\n",
       "      <td>6065000</td>\n",
       "      <td>2021666.67</td>\n",
       "      <td>2</td>\n",
       "    </tr>\n",
       "    <tr>\n",
       "      <th>2021-06-28</th>\n",
       "      <td>948000</td>\n",
       "      <td>2203000</td>\n",
       "      <td>1809500</td>\n",
       "      <td>4960500</td>\n",
       "      <td>1653500.00</td>\n",
       "      <td>2</td>\n",
       "    </tr>\n",
       "    <tr>\n",
       "      <th>2021-06-29</th>\n",
       "      <td>976500</td>\n",
       "      <td>2380000</td>\n",
       "      <td>1233000</td>\n",
       "      <td>4589500</td>\n",
       "      <td>1529833.33</td>\n",
       "      <td>4</td>\n",
       "    </tr>\n",
       "    <tr>\n",
       "      <th>2021-06-30</th>\n",
       "      <td>1301500</td>\n",
       "      <td>2830500</td>\n",
       "      <td>1539500</td>\n",
       "      <td>5671500</td>\n",
       "      <td>1890500.00</td>\n",
       "      <td>6</td>\n",
       "    </tr>\n",
       "  </tbody>\n",
       "</table>\n",
       "<p>61 rows × 6 columns</p>\n",
       "</div>"
      ],
      "text/plain": [
       "                장기점      성서점      상인점       3합          3평  달서확진\n",
       "index                                                           \n",
       "2021-05-01  1122000  3826000  2224000  7172000  2390666.67     0\n",
       "2021-05-02  1130000  3642500  1874500  6647000  2215666.67     0\n",
       "2021-05-03  1508000  1423500  1235000  4166500  1388833.33     1\n",
       "2021-05-04  1304000  3416000  1901500  6621500  2207166.67     1\n",
       "2021-05-05   928500  2795000  2019000  5742500  1914166.67     2\n",
       "...             ...      ...      ...      ...         ...   ...\n",
       "2021-06-26  1240500  3967000  2045500  7253000  2417666.67     8\n",
       "2021-06-27  1299500  3109500  1656000  6065000  2021666.67     2\n",
       "2021-06-28   948000  2203000  1809500  4960500  1653500.00     2\n",
       "2021-06-29   976500  2380000  1233000  4589500  1529833.33     4\n",
       "2021-06-30  1301500  2830500  1539500  5671500  1890500.00     6\n",
       "\n",
       "[61 rows x 6 columns]"
      ]
     },
     "execution_count": 2,
     "metadata": {},
     "output_type": "execute_result"
    }
   ],
   "source": [
    "os.chdir(r'G:\\공유 드라이브\\SicParvisMagna\\데이터\\코로나_매출')\n",
    "df_1 = pd.read_csv('5~6월_매출_확진자_합평균.csv')\n",
    "df_1.columns = ['index', '장기점', '성서점', '상인점', '3합', '3평', '달서확진']\n",
    "df_1.index = df_1['index']\n",
    "del df_1['index']\n",
    "df_1"
   ]
  },
  {
   "cell_type": "markdown",
   "id": "first-needle",
   "metadata": {},
   "source": [
    "### 30일 덩어리\n",
    "x = 2021-06-01 ~ 2021-06-30,     \n",
    "y = 2021-05-01 ~ 2021-05-30 ~~~ 2021-05-31 ~ 2021-06-29 총 31개"
   ]
  },
  {
   "cell_type": "markdown",
   "id": "cordless-breakfast",
   "metadata": {},
   "source": [
    "#### 확진자 수"
   ]
  },
  {
   "cell_type": "code",
   "execution_count": 3,
   "id": "optional-remedy",
   "metadata": {
    "ExecuteTime": {
     "end_time": "2021-07-29T05:13:18.639822Z",
     "start_time": "2021-07-29T05:13:18.627821Z"
    }
   },
   "outputs": [],
   "source": [
    "x1 = df_1['달서확진'][31:]\n",
    "y1 = df_1['3평'][:30]"
   ]
  },
  {
   "cell_type": "code",
   "execution_count": 21,
   "id": "departmental-converter",
   "metadata": {
    "ExecuteTime": {
     "end_time": "2021-07-29T08:47:03.050941Z",
     "start_time": "2021-07-29T08:47:03.040934Z"
    },
    "scrolled": true
   },
   "outputs": [
    {
     "data": {
      "text/plain": [
       "array([0.15555556, 0.09333333, 0.06222222, 0.12444444, 0.12444444,\n",
       "       0.03111111, 0.03111111, 0.06222222, 0.12444444, 0.03111111,\n",
       "       0.03111111, 0.03111111, 0.        , 0.03111111])"
      ]
     },
     "execution_count": 21,
     "metadata": {},
     "output_type": "execute_result"
    }
   ],
   "source": [
    "counts, bin_edges = np.histogram(x1, bins = len(x1.unique()), density = True)\n",
    "counts"
   ]
  },
  {
   "cell_type": "code",
   "execution_count": 18,
   "id": "responsible-military",
   "metadata": {
    "ExecuteTime": {
     "end_time": "2021-07-29T08:46:38.648295Z",
     "start_time": "2021-07-29T08:46:38.636291Z"
    }
   },
   "outputs": [],
   "source": [
    "mu = np.mean(x1)    ## 모평균\n",
    "x1_mean = np.mean(x1)\n",
    "x1_std = np.std(x1, ddof = 1)"
   ]
  },
  {
   "cell_type": "code",
   "execution_count": 19,
   "id": "about-center",
   "metadata": {
    "ExecuteTime": {
     "end_time": "2021-07-29T08:46:39.250866Z",
     "start_time": "2021-07-29T08:46:39.205889Z"
    }
   },
   "outputs": [
    {
     "name": "stdout",
     "output_type": "stream",
     "text": [
      "5.29 < 5.466666666666667 < 5.64\n"
     ]
    }
   ],
   "source": [
    "df = len(x1) - 1\n",
    "t_ = t(df)\n",
    "t_05 = t_.pdf(0.95)\n",
    "L_ = round(x1_mean - t_05 * (x1_std / np.sqrt(30)), 2)\n",
    "U_ = round(x1_mean + t_05 * (x1_std / np.sqrt(30)), 2)\n",
    "print(\"{} < {} < {}\".format(L_, mu, U_))"
   ]
  },
  {
   "cell_type": "code",
   "execution_count": 20,
   "id": "rational-enhancement",
   "metadata": {
    "ExecuteTime": {
     "end_time": "2021-07-29T08:46:41.331427Z",
     "start_time": "2021-07-29T08:46:41.088184Z"
    }
   },
   "outputs": [
    {
     "name": "stderr",
     "output_type": "stream",
     "text": [
      "No handles with labels found to put in legend.\n"
     ]
    },
    {
     "data": {
      "image/png": "[encoded data removed]",
      "text/plain": [
       "<Figure size 432x288 with 1 Axes>"
      ]
     },
     "metadata": {
      "needs_background": "light"
     },
     "output_type": "display_data"
    }
   ],
   "source": [
    "L_t= -t_05\n",
    "U_t= t_05\n",
    "\n",
    "x = counts\n",
    "\n",
    "plt.vlines(L_t, 0, t_.pdf(L_t), colors=\"r\")\n",
    "plt.vlines(U_t, 0, t_.pdf(U_t), colors=\"r\")\n",
    "plt.plot(x, t_.pdf(x),'r-')\n",
    "#plt.plot(x, t_.pdf(x),'r-', lw=2, alpha=0.6)\n",
    "\n",
    "#plt.title()\n",
    "plt.legend()\n",
    "plt.show()"
   ]
  },
  {
   "cell_type": "code",
   "execution_count": null,
   "id": "split-matter",
   "metadata": {},
   "outputs": [],
   "source": []
  },
  {
   "cell_type": "code",
   "execution_count": null,
   "id": "victorian-congress",
   "metadata": {},
   "outputs": [],
   "source": []
  },
  {
   "cell_type": "code",
   "execution_count": null,
   "id": "purple-conviction",
   "metadata": {},
   "outputs": [],
   "source": []
  }
 ],
 "metadata": {
  "hide_input": false,
  "kernelspec": {
   "display_name": "Python 3",
   "language": "python",
   "name": "python3"
  },
  "language_info": {
   "codemirror_mode": {
    "name": "ipython",
    "version": 3
   },
   "file_extension": ".py",
   "mimetype": "text/x-python",
   "name": "python",
   "nbconvert_exporter": "python",
   "pygments_lexer": "ipython3",
   "version": "3.7.10"
  },
  "toc": {
   "base_numbering": 1,
   "nav_menu": {},
   "number_sections": true,
   "sideBar": true,
   "skip_h1_title": false,
   "title_cell": "Table of Contents",
   "title_sidebar": "Contents",
   "toc_cell": false,
   "toc_position": {},
   "toc_section_display": true,
   "toc_window_display": false
  },
  "varInspector": {
   "cols": {
    "lenName": 16,
    "lenType": 16,
    "lenVar": 40
   },
   "kernels_config": {
    "python": {
     "delete_cmd_postfix": "",
     "delete_cmd_prefix": "del ",
     "library": "var_list.py",
     "varRefreshCmd": "print(var_dic_list())"
    },
    "r": {
     "delete_cmd_postfix": ") ",
     "delete_cmd_prefix": "rm(",
     "library": "var_list.r",
     "varRefreshCmd": "cat(var_dic_list()) "
    }
   },
   "types_to_exclude": [
    "module",
    "function",
    "builtin_function_or_method",
    "instance",
    "_Feature"
   ],
   "window_display": false
  }
 },
 "nbformat": 4,
 "nbformat_minor": 5
}
