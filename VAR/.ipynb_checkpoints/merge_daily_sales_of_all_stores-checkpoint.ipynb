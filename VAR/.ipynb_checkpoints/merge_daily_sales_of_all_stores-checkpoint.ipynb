{
 "cells": [
  {
   "cell_type": "code",
   "execution_count": 1,
   "metadata": {
    "scrolled": true
   },
   "outputs": [
    {
     "data": {
      "text/plain": [
       "['상인.csv',\n",
       " '서문.csv',\n",
       " '서구.csv',\n",
       " '안동.csv',\n",
       " '신평.csv',\n",
       " '성서.csv',\n",
       " '석적.csv',\n",
       " '평리.csv',\n",
       " '용산.csv',\n",
       " '장기.csv',\n",
       " '구평.csv',\n",
       " '신서.csv',\n",
       " '남김천.csv',\n",
       " '옥계.csv',\n",
       " '황상.csv',\n",
       " '원대.csv',\n",
       " '엑스코.csv']"
      ]
     },
     "execution_count": 1,
     "metadata": {},
     "output_type": "execute_result"
    }
   ],
   "source": [
    "import pandas as pd\n",
    "import numpy as np\n",
    "import os\n",
    "\n",
    "os.chdir(r'G:\\공유 드라이브\\SicParvisMagna\\데이터\\_영수증별 매출내역\\_영수증별 매출내역_컬럼 및 정산 전처리')\n",
    "\n",
    "print(\"\\n매장별 카드별_매출내역 csv 파일이 저장될 경로를 입력하세요. (예: C:\\\\Users\\\\LeeKyoungJun\\\\Desktop)\")\n",
    "print(\"빈칸 입력시 예시의 경로가 입력됩니다.\")\n",
    "\n",
    "save_path = input()\n",
    "if save_path == \"\" :\n",
    "    save_path = r\"C:\\Users\\LeeKyoungJun\\Desktop\"\n",
    "\n",
    "globals()[f'{st_init}'].to_csv(os.path.join(save_path, \"카드별_매출내역_\" + st_nm + \"_\" + globals()[f'{st_init}']['일자'][0] + '-' + globals()[f'{st_init}']['일자'][len(globals()[f'{st_init}'])-1]) + '.csv', encoding='utf-8-sig', index=False)\n",
    "\n",
    "result_df = pd.DataFrame()\n",
    "\n",
    "store_lists = list()\n",
    "for file in os.listdir() :\n",
    "    store_lists.append(file.split('.')[0])\n",
    "\n",
    "for st_nm in store_names :\n",
    "    _ = pd.read_csv(st_nm + \".csv\", encoding= 'utf-8')\n",
    "    _.rename(columns={'메뉴가격*수량' : st_nm}, inplace = True)\n",
    "    grouped_df = _.groupby(['판매일자'], as_index = 'false',)[st_nm].sum()\n",
    "    result_df = pd.concat([result_df, grouped_df], axis = 1)\n",
    "\n",
    "result_df.sort_index(inplace = True)\n",
    "result_df.to_csv(r'C:\\Users\\LeeKyoungJun\\Desktop\\일별 매출_모든 매장_.csv',encoding='utf-8-sig')"
   ]
  },
  {
   "cell_type": "code",
   "execution_count": null,
   "metadata": {},
   "outputs": [],
   "source": []
  }
 ],
 "metadata": {
  "hide_input": false,
  "kernelspec": {
   "display_name": "Python 3",
   "language": "python",
   "name": "python3"
  },
  "language_info": {
   "codemirror_mode": {
    "name": "ipython",
    "version": 3
   },
   "file_extension": ".py",
   "mimetype": "text/x-python",
   "name": "python",
   "nbconvert_exporter": "python",
   "pygments_lexer": "ipython3",
   "version": "3.7.10"
  },
  "toc": {
   "base_numbering": 1,
   "nav_menu": {},
   "number_sections": true,
   "sideBar": true,
   "skip_h1_title": false,
   "title_cell": "Table of Contents",
   "title_sidebar": "Contents",
   "toc_cell": false,
   "toc_position": {},
   "toc_section_display": true,
   "toc_window_display": false
  },
  "varInspector": {
   "cols": {
    "lenName": 16,
    "lenType": 16,
    "lenVar": 40
   },
   "kernels_config": {
    "python": {
     "delete_cmd_postfix": "",
     "delete_cmd_prefix": "del ",
     "library": "var_list.py",
     "varRefreshCmd": "print(var_dic_list())"
    },
    "r": {
     "delete_cmd_postfix": ") ",
     "delete_cmd_prefix": "rm(",
     "library": "var_list.r",
     "varRefreshCmd": "cat(var_dic_list()) "
    }
   },
   "types_to_exclude": [
    "module",
    "function",
    "builtin_function_or_method",
    "instance",
    "_Feature"
   ],
   "window_display": false
  }
 },
 "nbformat": 4,
 "nbformat_minor": 4
}
